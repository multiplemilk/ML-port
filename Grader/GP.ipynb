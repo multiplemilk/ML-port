{
    "metadata": {
        "kernelspec": {
            "name": "python3",
            "display_name": "Python 3 (ipykernel)",
            "language": "python"
        }
    },
    "nbformat": 4,
    "nbformat_minor": 2,
    "cells": [
        {
            "attachments": {},
            "cell_type": "markdown",
            "metadata": {},
            "source": [
                "# Python and Data Science\n",
                "## Machine Learning\n",
                "### Part 1: Linear Regression using Scikit-Learn"
            ]
        },
        {
            "attachments": {},
            "cell_type": "markdown",
            "metadata": {},
            "source": [
                "Libraries Used:\n",
                "\n",
                "- [Numpy](https://www.youtube.com/watch?v=lLRBYKwP8GQ\u0026t=1073s) - Used for making arrays\n",
                "- [Pandas](https://www.youtube.com/watch?v=zN2Hua6oII0\u0026t=8s) - Used for handling data sets\n",
                "- [matplotlib](https://www.youtube.com/watch?v=nzKy9GY12yo) - Used for making charts and graphs\n",
                "- [scikit-learn intro](https://www.youtube.com/watch?v=rvVkVsG49uU) - Used to handle complex mathematics\n",
                "- [scikit-learn tut](https://www.youtube.com/watch?v=M9Itm95JzL0) - In depth discussion\n",
                "- [pickle](https://www.youtube.com/watch?v=6Q56r_fVqgw) - Used to preserve trained models\n",
                ""
            ]
        },
        {
            "cell_type": "code",
            "execution_count": 19,
            "metadata": {},
            "outputs": [],
            "source": [
                "# Library Imports\n",
                "import pandas as pd\n",
                "import numpy as np\n",
                "import sklearn\n",
                "import matplotlib.pyplot as pyplot\n",
                "import pickle\n",
                "from sklearn import linear_model\n",
                "from sklearn.utils import shuffle\n",
                "from matplotlib import style"
            ]
        },
        {
            "cell_type": "code",
            "execution_count": 20,
            "metadata": {},
            "outputs": [
                {
                    "name": "stdout",
                    "output_type": "stream",
                    "text": "  school sex  age address famsize Pstatus  Medu  Fedu     Mjob      Fjob  ...  \\\n0     GP   F   18       U     GT3       A     4     4  at_home   teacher  ...   \n1     GP   F   17       U     GT3       T     1     1  at_home     other  ...   \n2     GP   F   15       U     LE3       T     1     1  at_home     other  ...   \n3     GP   F   15       U     GT3       T     4     2   health  services  ...   \n4     GP   F   16       U     GT3       T     3     3    other     other  ...   \n\n  famrel freetime  goout  Dalc  Walc health absences  G1  G2  G3  \n0      4        3      4     1     1      3        6   5   6   6  \n1      5        3      3     1     1      3        4   5   5   6  \n2      4        3      2     2     3      3       10   7   8  10  \n3      3        2      2     1     1      5        2  15  14  15  \n4      4        3      2     1     2      5        4   6  10  10  \n\n[5 rows x 33 columns]\n"
                }
            ],
            "source": [
                "data = pd.read_csv(\"student-mat.csv\", sep=\";\")\n",
                "print(data.head())"
            ]
        },
        {
            "cell_type": "code",
            "execution_count": 21,
            "metadata": {},
            "outputs": [
                {
                    "name": "stdout",
                    "output_type": "stream",
                    "text": "   G1  G2  G3  studytime  failures  absences\n0   5   6   6          2         0         6\n1   5   5   6          2         0         4\n2   7   8  10          2         3        10\n3  15  14  15          3         0         2\n4   6  10  10          2         0         4\n"
                }
            ],
            "source": [
                "data = data[[\"G1\", \"G2\", \"G3\", \"studytime\", \"failures\", \"absences\"]]\n",
                "print(data.head())"
            ]
        },
        {
            "attachments": {},
            "cell_type": "markdown",
            "metadata": {},
            "source": [
                "## Attributes and Labels\n",
                "\n",
                "In machine learning:\n",
                "\n",
                "1. **Attributes** (Features): Characteristics or properties of data used as input for algorithms. Also known as variables or features. Represented by a feature vector for each data point.\n",
                "\n",
                "2. **Labels** (Target Variable): Values we want the model to predict or learn. The dataset is labeled in supervised learning, where each data point has an associated label serving as ground truth.\n",
                "\n",
                "The goal is to use attributes to learn patterns and relationships that enable the model to predict labels for new, unseen data.\n",
                "\n",
                "List the attributes here:\n",
                "\n",
                "What is the label in this example?\n",
                ""
            ]
        },
        {
            "cell_type": "code",
            "execution_count": 22,
            "metadata": {},
            "outputs": [],
            "source": [
                "predict = \"G3\"\n",
                "\n",
                "x = np.array(data.drop(predict, axis=1))\n",
                "y = np.array(data[predict])"
            ]
        },
        {
            "cell_type": "code",
            "execution_count": 23,
            "metadata": {},
            "outputs": [],
            "source": [
                "# Split the data set into train and test sets\n",
                "x_train, x_test, y_train, y_test = sklearn.model_selection.train_test_split(x, y, test_size=0.1)"
            ]
        },
        {
            "attachments": {},
            "cell_type": "markdown",
            "metadata": {},
            "source": [
                "### Linear Regression\n",
                " Using a set of data points, the LR algorithm attempts to find a 'line of best fit' through the data.\n",
                " The 'line of best fit' is a corrrelation between the data points.\n",
                " LR is best used in a situation when there is a strong correlation of data to begin with.\n",
                " \n",
                " \u003ctable\u003e\n",
                "    \u003ctr\u003e\n",
                "        \u003ctd\u003e\n",
                "            \u003cimg src=\"LR-data1.png\" width=\"50%\" /\u003e\n",
                "        \u003c/td\u003e\n",
                "        \u003ctd\u003e\n",
                "            \u003cimg src=\"LR-data2.png\" width=\"50%\" /\u003e\n",
                "        \u003c/td\u003e\n",
                "    \u003c/tr\u003e\n",
                "    \u003ctr\u003e\n",
                "        \u003ctd\u003e\n",
                "            \u003cp style=\"text-align:center\"\u003eStrongly Correlated\u003c/p\u003e\n",
                "        \u003c/td\u003e\n",
                "        \u003ctd\u003e\n",
                "            \u003cp style=\"text-align:center\"\u003ePoorly Correlated\u003c/p\u003e\n",
                "        \u003c/td\u003e\n",
                "    \u003c/tr\u003e\n",
                " \u003c/table\u003e\n",
                " \n",
                " \u003cb\u003eLinear Equation: y = mx + b, where m is the gradient of the line.\n",
                " For any given x and a known gradient, y can be predicted.\u003c/b\u003e"
            ]
        },
        {
            "cell_type": "code",
            "execution_count": 24,
            "metadata": {},
            "outputs": [],
            "source": [
                "# linear = linear_model.LinearRegression()\n",
                "\n",
                "# Define the line of best fit\n",
                "# linear.fit(x_train, y_train)\n",
                "# acc = linear.score(x_test, y_test)\n",
                "# print(acc)"
            ]
        },
        {
            "attachments": {},
            "cell_type": "markdown",
            "metadata": {},
            "source": [
                "## save the model with pickle\n",
                "\n",
                "- use the run all button several times until you get a high acc value\n",
                "\n",
                "- comment out the cell above "
            ]
        },
        {
            "cell_type": "code",
            "execution_count": 25,
            "metadata": {},
            "outputs": [],
            "source": [
                "with open(\"studentmodel.pickle\", \"wb\") as f:\n",
                "    pickle.dump(linear, f)"
            ]
        },
        {
            "cell_type": "code",
            "execution_count": 26,
            "metadata": {},
            "outputs": [],
            "source": [
                "# load the pickle file \n",
                "pickle_in = open(\"studentmodel.pickle\", \"rb\")\n",
                "linear = pickle.load(pickle_in)"
            ]
        },
        {
            "cell_type": "code",
            "execution_count": 27,
            "metadata": {},
            "outputs": [
                {
                    "name": "stdout",
                    "output_type": "stream",
                    "text": "Coefficient: \n [ 0.16036257  0.97107718 -0.21118932 -0.3099966   0.03787889]\nIntercept: \n -1.4507380488042845\n"
                }
            ],
            "source": [
                "print('Coefficient: \\n', linear.coef_)\n",
                "print('Intercept: \\n', linear.intercept_)"
            ]
        },
        {
            "cell_type": "code",
            "execution_count": 28,
            "metadata": {},
            "outputs": [
                {
                    "name": "stdout",
                    "output_type": "stream",
                    "text": "12.271789069254416 [10 13  2  1  6] 13\n11.125519917941812 [ 9 12  3  0  3] 11\n4.692011527422304 [8 6 2 2 2] 5\n10.724236104715585 [11 11  2  0  4] 11\n11.224954108634442 [10 12  2  1  4] 12\n12.826753028157187 [12 13  2  0  4] 13\n9.35667599828183 [ 9 10  2  0  2] 9\n10.251995388196566 [ 9 11  2  0  0] 12\n9.069728889378176 [ 9 10  3  0  0] 0\n16.390281847788465 [17 16  2  0  0] 17\n15.249995097412564 [15 15  2  0  4] 15\n18.471003911060578 [18 18  3  0  5] 19\n6.144785760109505 [ 6  7  2  1 15] 8\n5.580365460305906 [8 7 2 3 8] 8\n11.240338114847614 [12 11  1  1 16] 12\n14.355375733791476 [13 15  4  0  0] 15\n10.488115746456074 [10 11  2  0  2] 11\n13.747003452780394 [13 14  3  0  4] 14\n7.231109585302274 [8 8 1 1 4] 8\n6.7588688687832565 [6 8 1 1 0] 8\n11.670382245274464 [10 12  1  0  2] 12\n9.597168785581555 [ 7 10  2  1 25] 11\n9.51703857118872 [10 10  2  0  2] 11\n7.596950654097531 [ 9  8  2  1 15] 8\n-1.7901043031456885 [5 0 1 3 0] 0\n12.889562955541967 [13 13  3  0  7] 14\n7.735246793560901 [11  8  2  0  2] 8\n16.390281847788465 [17 16  2  0  0] 16\n8.960193067115432 [ 7 10  2  0  0] 11\n7.88146161475585 [6 9 1 1 4] 8\n12.794856536417578 [11 13  1  1 10] 13\n9.018902138734031 [10 10  4  0  0] 10\n12.349711429578335 [14 12  1  0  3] 12\n7.77792656829704 [7 9 3 0 0] 8\n8.621719181273985 [10  9  2  0  4] 11\n-0.26949096683744944 [10  0  2  0  0] 0\n14.82858113153769 [12 15  1  0  0] 15\n20.05385419681155 [18 19  1  0 10] 19\n12.835600030358838 [13 13  2  0  0] 13\n9.009626683512764 [10  9  3  1 28] 9\n"
                }
            ],
            "source": [
                "predictions = linear.predict(x_test)\n",
                "\n",
                "for x in range(len(predictions)):\n",
                "    print(predictions[x], x_test[x], y_test[x]) "
            ]
        },
        {
            "attachments": {},
            "cell_type": "markdown",
            "metadata": {},
            "source": [
                "## Plot the data"
            ]
        },
        {
            "cell_type": "code",
            "execution_count": 31,
            "metadata": {},
            "outputs": [
                {
                    "data": {
                        "text/plain": "\u003cfunction matplotlib.pyplot.show(close=None, block=None)\u003e"
                    },
                    "execution_count": 31,
                    "metadata": {},
                    "output_type": "execute_result"
                },
                {
                    "data": {
                        "image/png": "[encoded data removed]",
                        "text/plain": "\u003cFigure size 640x480 with 1 Axes\u003e"
                    },
                    "metadata": {},
                    "output_type": "display_data"
                }
            ],
            "source": [
                "style.use(\"ggplot\")\n",
                "\n",
                "# set up a scatter plot\n",
                "p = \"G2\"\n",
                "pyplot.scatter(data[p], data[\"G3\"])\n",
                "pyplot.xlabel(p)\n",
                "pyplot.ylabel(\"Final grade\")\n",
                "pyplot.show"
            ]
        }
    ]
}
