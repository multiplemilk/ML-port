{
 "cells": [
  {
   "cell_type": "markdown",
   "id": "a9c101bf",
   "metadata": {},
   "source": [
    "<h1 style=\"text-align:center;\"><span style=\"color:blue;\">Reinforcement Learning with OpenAI Gym</span></h1><br />\n",
    "\n",
    "<center><img src =\"area-51.jpg\" width=\"500\" /></center>\n",
    "\n",
    "- **A** - Action\n",
    "- **R** - Reward\n",
    "- **E** - Environment\n",
    "- **A** - Agent\n",
    "\n",
    "<img src=\"RL_illustration.png\" />\n",
    "\n",
    "- [Cart Pole Control Environment in OpenAI Gym - Introduction to OpenAI Gym](https://aleksandarhaber.com/cart-pole-control-environment-in-openai-gym-gymnasium-introduction-to-openai-gym/)\n"
   ]
  },
  {
   "cell_type": "code",
   "execution_count": null,
   "id": "e40c36c8",
   "metadata": {},
   "outputs": [],
   "source": [
    "!pip install pygame"
   ]
  },
  {
   "cell_type": "code",
   "execution_count": null,
   "id": "764dcc9a",
   "metadata": {},
   "outputs": [],
   "source": [
    "# Import the libraries {!pip install as needed}\n",
    "import gym\n",
    "import numpy as np\n",
    "import time\n",
    "import pygame\n",
    "from pygame import gfxdraw"
   ]
  },
  {
   "cell_type": "markdown",
   "id": "8ee71a2f",
   "metadata": {},
   "source": [
    "## Create an Environment for our Cart Pole\n",
    "\n",
    "[gymnasium.Env](https://gymnasium.farama.org/api/env/)"
   ]
  },
  {
   "cell_type": "code",
   "execution_count": null,
   "id": "9c4521d5",
   "metadata": {},
   "outputs": [],
   "source": [
    "env = gym.make('CartPole-v1', render_mode='human')\n",
    "\n",
    "(state,_) = env.reset()"
   ]
  },
  {
   "cell_type": "code",
   "execution_count": 19,
   "id": "94155246",
   "metadata": {},
   "outputs": [],
   "source": [
    "env.close()"
   ]
  },
  {
   "cell_type": "markdown",
   "id": "2a90aa5b",
   "metadata": {},
   "source": [
    "### The States - what is happening in each frame\n",
    "\n",
    "<img src=\"cart-states.png\" />\n",
    "\n",
    "#### Four States\n",
    "\n",
    "1. x Position of the cart\n",
    "2. &#7819; Velocity of the cart\n",
    "3. &#952; Pole angle\n",
    "4. &#952; Angular Velocity (Theta dot)"
   ]
  },
  {
   "cell_type": "code",
   "execution_count": null,
   "id": "3739798f",
   "metadata": {},
   "outputs": [],
   "source": [
    "# Run the simulation\n",
    "env.render()"
   ]
  },
  {
   "cell_type": "code",
   "execution_count": null,
   "id": "4e172a1b",
   "metadata": {},
   "outputs": [],
   "source": [
    "# Push the cart in one direction (0 = left)\n",
    "env.step(0)\n"
   ]
  },
  {
   "cell_type": "code",
   "execution_count": null,
   "id": "359b6b5f",
   "metadata": {},
   "outputs": [],
   "source": [
    "# Observation space limits\n",
    "env.observation_space"
   ]
  },
  {
   "cell_type": "code",
   "execution_count": null,
   "id": "64ce9d58",
   "metadata": {},
   "outputs": [],
   "source": [
    "# upper limit\n",
    "env.observation_space.high"
   ]
  },
  {
   "cell_type": "code",
   "execution_count": null,
   "id": "cc50e0f9",
   "metadata": {},
   "outputs": [],
   "source": [
    "# lower limit\n",
    "env.observation_space.low"
   ]
  },
  {
   "cell_type": "code",
   "execution_count": null,
   "id": "e2fe7d7f",
   "metadata": {},
   "outputs": [],
   "source": [
    "# action space\n",
    "env.action_space"
   ]
  },
  {
   "cell_type": "code",
   "execution_count": null,
   "id": "24200ee0",
   "metadata": {},
   "outputs": [],
   "source": [
    "# All specifications\n",
    "env.spec"
   ]
  },
  {
   "cell_type": "code",
   "execution_count": null,
   "id": "7ab72721",
   "metadata": {},
   "outputs": [],
   "source": [
    "# Maximum number of steps per episode\n",
    "env.spec.max_episode_steps"
   ]
  },
  {
   "cell_type": "code",
   "execution_count": null,
   "id": "d4743221",
   "metadata": {},
   "outputs": [],
   "source": [
    "# Reward threshold per episode\n",
    "env.spec.reward_threshold"
   ]
  },
  {
   "cell_type": "code",
   "execution_count": null,
   "id": "321437a1",
   "metadata": {},
   "outputs": [],
   "source": [
    "# Simulate the environment\n",
    "episodeNumber=10000\n",
    "timeSteps=100"
   ]
  },
  {
   "cell_type": "code",
   "execution_count": null,
   "id": "b99ef7c4",
   "metadata": {},
   "outputs": [],
   "source": [
    "# Run the simulation\n",
    "for episodeIndex in range(episodeNumber):\n",
    "    initial_state=env.reset()\n",
    "    print(episodeIndex)\n",
    "    appendedObservations = []\n",
    "    for timeIndex in range(timeSteps):\n",
    "        print(timeIndex)\n",
    "        random_action = env.action_space.sample()\n",
    "        observation, reward, terminated, truncated, info = env.step(random_action)\n",
    "        appendedObservations.append(observation)\n",
    "        time.sleep(0.01)\n",
    "        if (terminated):\n",
    "            time.sleep(0.1)\n",
    "            break\n",
    "env.close()"
   ]
  },
  {
   "cell_type": "code",
   "execution_count": null,
   "id": "3697a359",
   "metadata": {},
   "outputs": [],
   "source": [
    "env.close()"
   ]
  },
  {
   "cell_type": "code",
   "execution_count": null,
   "id": "aa8491fa",
   "metadata": {},
   "outputs": [],
   "source": []
  },
  {
   "cell_type": "code",
   "execution_count": null,
   "id": "2df7215f",
   "metadata": {},
   "outputs": [],
   "source": []
  },
  {
   "cell_type": "code",
   "execution_count": null,
   "id": "327690db",
   "metadata": {},
   "outputs": [],
   "source": []
  },
  {
   "cell_type": "code",
   "execution_count": null,
   "id": "723b7330",
   "metadata": {},
   "outputs": [],
   "source": []
  },
  {
   "cell_type": "code",
   "execution_count": null,
   "id": "560234c1",
   "metadata": {},
   "outputs": [],
   "source": []
  }
 ],
 "metadata": {
  "kernelspec": {
   "display_name": "Python 3 (ipykernel)",
   "language": "python",
   "name": "python3"
  },
  "language_info": {
   "codemirror_mode": {
    "name": "ipython",
    "version": 3
   },
   "file_extension": ".py",
   "mimetype": "text/x-python",
   "name": "python",
   "nbconvert_exporter": "python",
   "pygments_lexer": "ipython3",
   "version": "3.10.9"
  }
 },
 "nbformat": 4,
 "nbformat_minor": 5
}
